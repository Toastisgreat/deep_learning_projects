{
 "cells": [
  {
   "cell_type": "markdown",
   "id": "f16e04c0",
   "metadata": {},
   "source": [
    "Quick Note: As you can see I have all the imports done in the cell below. for some reason my notebook ocassionally hangs when importing from functions.py. Also, I found it removes the time by about half for the actual imports"
   ]
  },
  {
   "cell_type": "code",
   "execution_count": 1,
   "id": "38b90611",
   "metadata": {},
   "outputs": [],
   "source": [
    "\n",
    "from ml_functions import *\n",
    "from dl_functions import *"
   ]
  },
  {
   "cell_type": "code",
   "execution_count": 2,
   "id": "279d21f4",
   "metadata": {},
   "outputs": [
    {
     "name": "stdout",
     "output_type": "stream",
     "text": [
      "extracted data from poem-sentiment/data\\dev.tsv\n",
      "extracted data from poem-sentiment/data\\test.tsv\n",
      "extracted data from poem-sentiment/data\\train.tsv\n"
     ]
    }
   ],
   "source": [
    "#make csv files of the poetry data sets\n",
    "poetry_sets = data_framify('poem-sentiment/data', [1, 2], True)\n",
    "paths = ['csv/poetry-dev.csv', 'csv/poetry-test.csv', 'csv/poetry-train.csv']\n",
    "\n",
    "poetry_sets[0].to_csv(paths[0])\n",
    "poetry_sets[1].to_csv(paths[1])\n",
    "poetry_sets[2].to_csv(paths[2])"
   ]
  },
  {
   "cell_type": "code",
   "execution_count": 3,
   "id": "97469153",
   "metadata": {},
   "outputs": [
    {
     "name": "stdout",
     "output_type": "stream",
     "text": [
      "Unigram Counts\n",
      "SGD Train score: 1.0 ; Validation score: 0.54\n",
      "SVM Train score : 1.0 ; SVM Validation score : 0.53\n",
      "Naives Bayes Train Score: 0.84 ; Naive Bayes Validation score: 0.59\n",
      "\n",
      "Unigram Tf-Idf\n",
      "SGD Train score: 1.0 ; Validation score: 0.57\n",
      "SVM Train score : 0.78 ; SVM Validation score : 0.63\n",
      "Naives Bayes Train Score: 0.62 ; Naive Bayes Validation score: 0.62\n",
      "\n",
      "Bigram Counts\n",
      "SGD Train score: 1.0 ; Validation score: 0.59\n",
      "SVM Train score : 1.0 ; SVM Validation score : 0.58\n",
      "Naives Bayes Train Score: 0.99 ; Naive Bayes Validation score: 0.48\n",
      "\n",
      "Bigram Tf-Idf\n",
      "SGD Train score: 1.0 ; Validation score: 0.61\n",
      "SVM Train score : 0.96 ; SVM Validation score : 0.62\n",
      "Naives Bayes Train Score: 0.62 ; Naive Bayes Validation score: 0.62\n",
      "\n",
      "Trigram Counts\n",
      "SGD Train score: 1.0 ; Validation score: 0.59\n",
      "SVM Train score : 1.0 ; SVM Validation score : 0.61\n",
      "Naives Bayes Train Score: 1.0 ; Naive Bayes Validation score: 0.39\n",
      "\n",
      "Trigram Tf-Idf\n",
      "SGD Train score: 1.0 ; Validation score: 0.62\n",
      "SVM Train score : 1.0 ; SVM Validation score : 0.62\n",
      "Naives Bayes Train Score: 0.62 ; Naive Bayes Validation score: 0.62\n",
      "\n"
     ]
    }
   ],
   "source": [
    "#now, begin to learn about the data\n",
    "poetry_train = poetry_sets[2]\n",
    "path = 'skobjects/'\n",
    "train_list = vectorize_data(poetry_train, path)\n",
    "XTU, XTUT, XTB, XTBT, XTT, XTTT = train_list[0:]\n",
    "learn(XTU, XTUT, XTB, XTBT, XTT, XTTT, poetry_train)\n",
    "\n"
   ]
  },
  {
   "cell_type": "code",
   "execution_count": 4,
   "id": "fff5947e",
   "metadata": {},
   "outputs": [],
   "source": [
    "y = poetry_train['label'].values\n",
    "#uni_RF = RandomForestModel(XTUT, y, 'Unigram tf-idf')\n",
    "#bi_rf = RandomForestModel(XTBT, y, 'Bigram tf-idf')\n",
    "#tri_tf = RandomForestModel(XTTT, y, 'Trigram tf-idf')"
   ]
  },
  {
   "cell_type": "code",
   "execution_count": 5,
   "id": "3c3eff11",
   "metadata": {},
   "outputs": [],
   "source": [
    "#now, use the best data form to learn optimal things\n",
    "#best_learn(XTTT, poetry_train)\n",
    "#print(poetry_train)\n",
    "vocab = vocabulary_bank('test bank')\n",
    "for sentence in poetry_train['text']:\n",
    "    vocab.add_sentence(sentence)"
   ]
  },
  {
   "cell_type": "code",
   "execution_count": 6,
   "id": "b1336fdc",
   "metadata": {},
   "outputs": [
    {
     "name": "stdout",
     "output_type": "stream",
     "text": [
      "Unigram Sequational Neural Network \n",
      "Test Score: 0.63 ; Validation Score: 0.61\n",
      "Bigram Sequational Neural Network \n",
      "Test Score: 0.63 ; Validation Score: 0.61\n",
      "Trigram Sequational Neural Network \n",
      "Test Score: 0.63 ; Validation Score: 0.61\n",
      "Epoch 1/2\n",
      "14/14 [==============================] - 123s 8s/step - loss: 0.4813 - accuracy: 0.5942 - val_loss: 0.2348 - val_accuracy: 0.6143\n",
      "Epoch 2/2\n",
      "14/14 [==============================] - 112s 8s/step - loss: 0.5845 - accuracy: 0.6300 - val_loss: 0.2304 - val_accuracy: 0.6143\n",
      "Unigram Bi_lstm Neural Network \n",
      "Test score: 0.63 ; Validation score: 0.61\n"
     ]
    }
   ],
   "source": [
    "X_train, y_train, X_valid, y_valid = dataset_to_tensor_and_split(poetry_train, 0.5)\n",
    "uni_seq = sequential_nn(X_train, y_train, X_valid, y_valid, [64, 64, 64], 'Unigram', 1, vocab)\n",
    "bi_seq = sequential_nn(X_train, y_train, X_valid, y_valid, [64, 64, 64], 'Bigram', 2, vocab)\n",
    "tri_seq = sequential_nn(X_train, y_train, X_valid, y_valid, [64, 64, 64], 'Trigram', 3, vocab)\n",
    "\n",
    "final = conv_to_bilstm(X_train, y_train, X_valid, y_valid, vocab, 1, 'Unigram')"
   ]
  },
  {
   "cell_type": "code",
   "execution_count": 7,
   "id": "e40b6f45",
   "metadata": {},
   "outputs": [
    {
     "name": "stdout",
     "output_type": "stream",
     "text": [
      "Unigram Convolution Neural Network \n",
      "Test score: 0.63 ; Validation score: 0.61\n",
      "Bigram Convolution Neural Network \n",
      "Test score: 0.63 ; Validation score: 0.61\n",
      "Trigram Convolution Neural Network \n",
      "Test score: 0.63 ; Validation score: 0.61\n"
     ]
    }
   ],
   "source": [
    "uni_conv = convolutional_nn(X_train, y_train, X_valid, y_valid, vocab, 'Unigram', 1)\n",
    "bi_conv = convolutional_nn(X_train, y_train, X_valid, y_valid, vocab, 'Bigram', 2)\n",
    "tri_conv = convolutional_nn(X_train, y_train, X_valid, y_valid, vocab, 'Trigram', 3)\n",
    "\n"
   ]
  },
  {
   "cell_type": "code",
   "execution_count": 8,
   "id": "67560138",
   "metadata": {},
   "outputs": [
    {
     "name": "stdout",
     "output_type": "stream",
     "text": [
      "unigram conv test: 0.66346\n",
      "bigram conv test: 0.66346\n",
      "trigram conv test: 0.66346\n",
      "unigram seq test: 0.66346\n",
      "bigram seq test: 0.66346\n",
      "trigram seq test: 0.66346\n"
     ]
    }
   ],
   "source": [
    "X_test_train, y_test_train, X_test_valid, y_test_valid = dataset_to_tensor_and_split(poetry_sets[1], 1.0)\n",
    "print(f'unigram conv test: {round(uni_conv.evaluate(X_test_train, y_test_train, verbose=0)[1], 5)}')\n",
    "print(f'bigram conv test: {round(bi_conv.evaluate(X_test_train, y_test_train, verbose=0)[1], 5)}')\n",
    "print(f'trigram conv test: {round(tri_conv.evaluate(X_test_train, y_test_train, verbose=0)[1], 5)}')\n",
    "\n",
    "print(f'unigram seq test: {round(uni_seq.evaluate(X_test_train, y_test_train, verbose=0)[1], 5)}')\n",
    "print(f'bigram seq test: {round(bi_seq.evaluate(X_test_train, y_test_train, verbose=0)[1], 5)}')\n",
    "print(f'trigram seq test: {round(tri_seq.evaluate(X_test_train, y_test_train, verbose=0)[1], 5)}')"
   ]
  },
  {
   "cell_type": "code",
   "execution_count": 9,
   "id": "0520b46c",
   "metadata": {},
   "outputs": [
    {
     "name": "stdout",
     "output_type": "stream",
     "text": [
      "Epoch 1/2\n",
      "14/14 [==============================] - 125s 8s/step - loss: 0.5359 - accuracy: 0.5964 - val_loss: 0.2492 - val_accuracy: 0.6143\n",
      "Epoch 2/2\n",
      "14/14 [==============================] - 151s 10s/step - loss: 0.4084 - accuracy: 0.6300 - val_loss: 0.2337 - val_accuracy: 0.6143\n",
      "Unigram Bi_lstm Neural Network \n",
      "Test score: 0.63 ; Validation score: 0.61\n"
     ]
    }
   ],
   "source": [
    "uni_blstm = bi_lstm(X_train, y_train, X_valid, y_valid, vocab, 1, 'Unigram')\n"
   ]
  },
  {
   "cell_type": "code",
   "execution_count": 11,
   "id": "f6318ed3",
   "metadata": {},
   "outputs": [
    {
     "name": "stdout",
     "output_type": "stream",
     "text": [
      "unigram conv test: 0.66346\n"
     ]
    }
   ],
   "source": [
    "#print(f'unigram blstm test: {round(uni_blstm.evaluate(X_test_train, y_test_train, verbose=0)[1], 5)}')\n",
    "print(f'unigram conv bilstm test: {round(final.evaluate(X_test_train, y_test_train, verbose=0)[1], 5)}')"
   ]
  },
  {
   "cell_type": "code",
   "execution_count": null,
   "id": "03153634",
   "metadata": {},
   "outputs": [],
   "source": []
  }
 ],
 "metadata": {
  "kernelspec": {
   "display_name": "Python 3 (ipykernel)",
   "language": "python",
   "name": "python3"
  },
  "language_info": {
   "codemirror_mode": {
    "name": "ipython",
    "version": 3
   },
   "file_extension": ".py",
   "mimetype": "text/x-python",
   "name": "python",
   "nbconvert_exporter": "python",
   "pygments_lexer": "ipython3",
   "version": "3.10.9"
  }
 },
 "nbformat": 4,
 "nbformat_minor": 5
}
